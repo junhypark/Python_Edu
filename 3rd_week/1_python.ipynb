{
 "cells": [
  {
   "cell_type": "code",
   "execution_count": 3,
   "metadata": {},
   "outputs": [],
   "source": [
    "import numpy as np\n",
    "import matplotlib.pyplot as plt"
   ]
  },
  {
   "cell_type": "code",
   "execution_count": 4,
   "metadata": {},
   "outputs": [],
   "source": [
    "# Multilayer\n",
    "def dataLoader(x, y, n=1):\n",
    "    D = np.random.permutation(np.c_[x,y])\n",
    "\n",
    "    for i in range(len(x)//n):\n",
    "        yield (D[i*n:i*n+n,:-2], D[i*n:i*n+n, -2:])"
   ]
  },
  {
   "cell_type": "code",
   "execution_count": 5,
   "metadata": {},
   "outputs": [],
   "source": [
    "X = np.array([[0,0], [0,1], [1,0], [1,1]])\n",
    "Y = np.array([[0],[1], [1], [1]])   # OR"
   ]
  },
  {
   "cell_type": "code",
   "execution_count": 6,
   "metadata": {},
   "outputs": [],
   "source": [
    "def logistic(x):\n",
    "    return np.exp(x)/(1+np.exp(x))\n",
    "def dlogistic(x):\n",
    "    return logistic(x)*(1-logistic(x))"
   ]
  },
  {
   "cell_type": "code",
   "execution_count": 7,
   "metadata": {},
   "outputs": [
    {
     "ename": "ValueError",
     "evalue": "matmul: Input operand 1 has a mismatch in its core dimension 0, with gufunc signature (n?,k),(k,m?)->(n?,m?) (size 2 is different from 1)",
     "output_type": "error",
     "traceback": [
      "\u001b[1;31m---------------------------------------------------------------------------\u001b[0m",
      "\u001b[1;31mValueError\u001b[0m                                Traceback (most recent call last)",
      "Cell \u001b[1;32mIn[7], line 18\u001b[0m\n\u001b[0;32m     15\u001b[0m \u001b[38;5;28;01mfor\u001b[39;00m i \u001b[38;5;129;01min\u001b[39;00m \u001b[38;5;28mrange\u001b[39m(epoch):\n\u001b[0;32m     16\u001b[0m     \u001b[38;5;28;01mfor\u001b[39;00m x,y \u001b[38;5;129;01min\u001b[39;00m dataLoader(X, Y, N):\n\u001b[0;32m     17\u001b[0m         \u001b[38;5;66;03m# FeedForward\u001b[39;00m\n\u001b[1;32m---> 18\u001b[0m         z \u001b[38;5;241m=\u001b[39m \u001b[43mx\u001b[49m\u001b[38;5;129;43m@W\u001b[39;49m\u001b[38;5;241m+\u001b[39mB\n\u001b[0;32m     19\u001b[0m         yhat1 \u001b[38;5;241m=\u001b[39m logistic(z[:,:\u001b[38;5;241m1\u001b[39m])\n\u001b[0;32m     20\u001b[0m         yhat2 \u001b[38;5;241m=\u001b[39m z[:,\u001b[38;5;241m1\u001b[39m:]\n",
      "\u001b[1;31mValueError\u001b[0m: matmul: Input operand 1 has a mismatch in its core dimension 0, with gufunc signature (n?,k),(k,m?)->(n?,m?) (size 2 is different from 1)"
     ]
    }
   ],
   "source": [
    "# logistic\n",
    "\n",
    "W = np.random.rand(X.shape[-1], Y.shape[-1])\n",
    "B = np.random.rand(Y.shape[-1])\n",
    "\n",
    "lr = 1e-3\n",
    "epoch = 100000\n",
    "\n",
    "J1 = lambda y, _y: -(y**np.log(_y)+(1-y)*np.log(1-_y))\n",
    "J2 = lambda y, _y: (y-_y)**2\n",
    "N=4\n",
    "\n",
    "loss = list()\n",
    "\n",
    "for i in range(epoch):\n",
    "    for x,y in dataLoader(X, Y, N):\n",
    "        # FeedForward\n",
    "        z = x@W+B\n",
    "        yhat1 = logistic(z[:,:1])\n",
    "        yhat2 = z[:,1:]\n",
    "\n",
    "        # y1 = sigmoid(x1w1 + x2w2) ==> NLL(Y[0])\n",
    "        # y2 = x1w1 + x2w2 ==> SE(Y[1])\n",
    "\n",
    "        # Back propagation\n",
    "        dLoss1 = -(y[:,:1]-yhat1)\n",
    "        dLoss2 = -(y[:,1:]-yhat2)\n",
    "        dZ = dlogistic(z)*dLoss1\n",
    "        dB = np.sum(dZ)+np.sum(dLoss2)\n",
    "        dW = x.T@dZ + x.T@dLoss2\n",
    "        B = B-lr*dB\n",
    "        W = W-lr*dW\n",
    "\n",
    "    if epoch % 100 == 0:\n",
    "        loss.append(np.sum(J1(Y, logistic(X@W+B)[:,:1]) + np.sum(J2(Y, X@W+B)[:,1:])))"
   ]
  },
  {
   "cell_type": "code",
   "execution_count": null,
   "metadata": {},
   "outputs": [],
   "source": [
    "def softmax(x):\n",
    "    xmax = np.max(x, axis = 1, keepdims=1)\n",
    "    _x = x - xmax\n",
    "    return np.exp(x)/np.sum(np.exp(x), axis = 1, keepdims=True)"
   ]
  }
 ],
 "metadata": {
  "kernelspec": {
   "display_name": "KoreaUniv",
   "language": "python",
   "name": "python3"
  },
  "language_info": {
   "codemirror_mode": {
    "name": "ipython",
    "version": 3
   },
   "file_extension": ".py",
   "mimetype": "text/x-python",
   "name": "python",
   "nbconvert_exporter": "python",
   "pygments_lexer": "ipython3",
   "version": "3.9.18"
  }
 },
 "nbformat": 4,
 "nbformat_minor": 2
}
